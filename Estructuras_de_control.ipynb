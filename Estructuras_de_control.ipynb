{
  "cells": [
    {
      "cell_type": "markdown",
      "metadata": {
        "id": "view-in-github",
        "colab_type": "text"
      },
      "source": [
        "<a href=\"https://colab.research.google.com/github/Elio1204/Practicas/blob/main/Estructuras_de_control.ipynb\" target=\"_parent\"><img src=\"https://colab.research.google.com/assets/colab-badge.svg\" alt=\"Open In Colab\"/></a>"
      ]
    },
    {
      "cell_type": "markdown",
      "source": [
        "# Estructuras de control.\n",
        "1. Definir 2 variables con números (num1 y num2). Crear una estructura condicional donde si los dos números son iguales se imprima \"los dos números son iguales\" (*if... else...*)\n",
        "\n",
        "2. Crear una estructura condicional donde si \"no llueve\", \"podemos ir a la plaza\" y sino \"debemos quedarnos en casa\" (*if... else...*)\n",
        "\n",
        "3. Definir una lista con 3 números (puede ser la misma que antes). Crear una estructura iterativa donde se imprima cada número +2 (*for... in...*)\n",
        "\n",
        "4. Crear una lista con 5 materias de la escuela. Crear una estructura interativa que permita CONTAR la cantidad de elementos en la lista (*for... in...*) \n",
        "\n",
        "5. Crea una función que divida dos números que reciba como parámetros\n",
        "\n",
        "6. Crea una función que reciba 2 números e incluya un condicional donde si el segundo número es 0 imprima \"no se puede realizar esta operación\" y sino realice una división entre el primer y el segundo número. \n",
        "\n",
        "7. Crear una función que dada una lista de números y un número (parámetros), agregue el número a la lista (*def*)"
      ],
      "metadata": {
        "id": "hc_7FxcRbIb7"
      }
    },
    {
      "cell_type": "code",
      "source": [
        " #1\n",
        "num1=3\n",
        "num2=4\n",
        "if num1==num2:\n",
        "  print(\"Los numeros son iguales\")\n",
        "else:\n",
        "  print(\"Los numeros no son iguales\")"
      ],
      "metadata": {
        "id": "nUVGRXoZcNih",
        "outputId": "b9891f6f-3eb3-4300-bb4a-2eef472f0d6d",
        "colab": {
          "base_uri": "https://localhost:8080/"
        }
      },
      "execution_count": null,
      "outputs": [
        {
          "output_type": "stream",
          "name": "stdout",
          "text": [
            "Los numeros no son iguales\n"
          ]
        }
      ]
    },
    {
      "cell_type": "code",
      "source": [
        "  #2\n",
        "llueve=False\n",
        "nollueve=False\n",
        "if llueve == True:\n",
        "   print(\"Nos quedamos en casa\")\n",
        "else:\n",
        "   print(\"Vamos a la plaza\")\n"
      ],
      "metadata": {
        "id": "_y8XTWWGc4ME",
        "outputId": "91c468c1-f446-4535-c6b9-017048b9f0ac",
        "colab": {
          "base_uri": "https://localhost:8080/"
        }
      },
      "execution_count": null,
      "outputs": [
        {
          "output_type": "stream",
          "name": "stdout",
          "text": [
            "Vamos a la plaza\n"
          ]
        }
      ]
    },
    {
      "cell_type": "code",
      "source": [
        "  #3\n",
        "lista=[1,2,3]\n",
        "\n",
        "for i in lista:\n",
        "   print(i+2)"
      ],
      "metadata": {
        "id": "pZUVYXrwpjDd",
        "outputId": "12de20fb-26c5-40a0-aac0-cf2720503161",
        "colab": {
          "base_uri": "https://localhost:8080/"
        }
      },
      "execution_count": null,
      "outputs": [
        {
          "output_type": "stream",
          "name": "stdout",
          "text": [
            "3\n",
            "4\n",
            "5\n"
          ]
        }
      ]
    },
    {
      "cell_type": "code",
      "source": [
        "#4\n",
        "materias=[\"fisica\",\"quimica\",\"matematicas\",\"literatura\",\"filosofia\"]\n",
        "print(len(materias))"
      ],
      "metadata": {
        "id": "0zHBjCnItKGJ",
        "outputId": "03704d3d-1c24-4a59-984f-7a859523c323",
        "colab": {
          "base_uri": "https://localhost:8080/"
        }
      },
      "execution_count": null,
      "outputs": [
        {
          "output_type": "stream",
          "name": "stdout",
          "text": [
            "5\n"
          ]
        }
      ]
    },
    {
      "cell_type": "code",
      "source": [
        "  #5\n",
        "  def ingre_operacion(resultado):\n",
        "      print(\"El resultado es \", resultado)\n",
        "ingre_operacion(4/2)"
      ],
      "metadata": {
        "id": "NvR5KgsWxD7w",
        "outputId": "c96c023b-c28e-4cbf-ee49-1a850df6d721",
        "colab": {
          "base_uri": "https://localhost:8080/"
        }
      },
      "execution_count": null,
      "outputs": [
        {
          "output_type": "stream",
          "name": "stdout",
          "text": [
            "El resultado es  2.0\n"
          ]
        }
      ]
    },
    {
      "cell_type": "code",
      "source": [
        ""
      ],
      "metadata": {
        "id": "CMtuG8pU5wB2",
        "outputId": "d7e6ea0b-31fe-4f9c-c4a7-b842c8dc5df1",
        "colab": {
          "base_uri": "https://localhost:8080/"
        }
      },
      "execution_count": null,
      "outputs": [
        {
          "output_type": "stream",
          "name": "stdout",
          "text": [
            "0\n"
          ]
        }
      ]
    }
  ],
  "metadata": {
    "colab": {
      "collapsed_sections": [],
      "name": "Estructuras de control",
      "toc_visible": true,
      "provenance": [],
      "include_colab_link": true
    },
    "kernelspec": {
      "display_name": "Python 3",
      "name": "python3"
    }
  },
  "nbformat": 4,
  "nbformat_minor": 0
}