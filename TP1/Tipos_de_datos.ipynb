{
  "cells": [
    {
      "cell_type": "markdown",
      "metadata": {
        "id": "view-in-github",
        "colab_type": "text"
      },
      "source": [
        "<a href=\"https://colab.research.google.com/github/Elio1204/Practicas/blob/main/TP1/Tipos_de_datos.ipynb\" target=\"_parent\"><img src=\"https://colab.research.google.com/assets/colab-badge.svg\" alt=\"Open In Colab\"/></a>"
      ]
    },
    {
      "cell_type": "markdown",
      "source": [
        "# Tipos de datos."
      ],
      "metadata": {
        "id": "BfjsUPo2F4WS"
      }
    },
    {
      "cell_type": "markdown",
      "source": [
        "1. Hacer una lista que contenga 3 materias de la escuela\n",
        "\n",
        "2. Eliminar el primer registro de la lista\n",
        "\n",
        "3. Agregar una materia más al final\n",
        "\n",
        "4. Seleccionar el segundo elemento de la lista\n",
        "\n",
        "5. Crear un diccionario con las materias y el nombre del/la profesor/a\n",
        "\n",
        "6. Agregar una materia y un/a profesora/\n",
        "\n",
        "7. Eliminar una materia y un/a profesor/a"
      ],
      "metadata": {
        "id": "Kdzeyjx_Gb2T"
      }
    },
    {
      "cell_type": "code",
      "source": [
        "#Ejercicio 1.\n",
        "  #1\n",
        "materias=[\"matematicas\",\"quimica\",\"fisica\"]\n",
        "  #2\n",
        "del materias[0]\n",
        "print(materias)\n"
      ],
      "metadata": {
        "id": "EPG377ztGfaq",
        "outputId": "d1b45a10-ec50-47ca-f973-531fac4f75c7",
        "colab": {
          "base_uri": "https://localhost:8080/"
        }
      },
      "execution_count": null,
      "outputs": [
        {
          "output_type": "stream",
          "name": "stdout",
          "text": [
            "['quimica', 'fisica']\n"
          ]
        }
      ]
    },
    {
      "cell_type": "code",
      "source": [
        "  #3\n",
        "materias.append(\"literatura\")\n",
        "print(materias)"
      ],
      "metadata": {
        "id": "bLCK74XYIEye",
        "outputId": "f6714dee-744f-49e3-c7fe-f1a6e5091f7c",
        "colab": {
          "base_uri": "https://localhost:8080/"
        }
      },
      "execution_count": null,
      "outputs": [
        {
          "output_type": "stream",
          "name": "stdout",
          "text": [
            "['quimica', 'fisica', 'literatura']\n"
          ]
        }
      ]
    },
    {
      "cell_type": "code",
      "source": [
        "  #4\n",
        "print(materias[1])"
      ],
      "metadata": {
        "id": "rKMRFg1HIRlb",
        "outputId": "3bec473b-ccb6-42b6-b8ee-ba1a935cb0a6",
        "colab": {
          "base_uri": "https://localhost:8080/"
        }
      },
      "execution_count": null,
      "outputs": [
        {
          "output_type": "stream",
          "name": "stdout",
          "text": [
            "fisica\n"
          ]
        }
      ]
    },
    {
      "cell_type": "code",
      "source": [
        "  #5\n",
        "materias={\n",
        "    \"quimica\":\"juana\",\n",
        "    \"fisica\":\"maria\",\n",
        "    \"literatura\":\"ana\"\n",
        "}\n",
        "print(materias)"
      ],
      "metadata": {
        "id": "0j40cMEuJ8VO",
        "outputId": "62ea3f2e-99a9-4263-a6b8-817184a9773d",
        "colab": {
          "base_uri": "https://localhost:8080/"
        }
      },
      "execution_count": null,
      "outputs": [
        {
          "output_type": "stream",
          "name": "stdout",
          "text": [
            "{'quimica': 'juana', 'fisica': 'maria', 'literatura': 'ana'}\n"
          ]
        }
      ]
    },
    {
      "cell_type": "code",
      "source": [
        "  #6\n",
        "materias[\"matematicas\"]=\"juan\"\n",
        "print(materias)"
      ],
      "metadata": {
        "id": "uWckKDEZKhkN",
        "outputId": "966b5487-a02c-4122-b3a5-6765a92cf954",
        "colab": {
          "base_uri": "https://localhost:8080/"
        }
      },
      "execution_count": null,
      "outputs": [
        {
          "output_type": "stream",
          "name": "stdout",
          "text": [
            "{'quimica': 'juana', 'fisica': 'maria', 'literatura': 'ana', 'matematicas': 'juan'}\n"
          ]
        }
      ]
    },
    {
      "cell_type": "code",
      "source": [
        "  #7\n",
        "del materias[\"literatura\"]\n",
        "print(materias)"
      ],
      "metadata": {
        "id": "UxE5BsUwMp_D",
        "outputId": "5c1cd08c-24b2-43be-9a1e-f02f7844b04e",
        "colab": {
          "base_uri": "https://localhost:8080/"
        }
      },
      "execution_count": null,
      "outputs": [
        {
          "output_type": "stream",
          "name": "stdout",
          "text": [
            "{'quimica': 'juana', 'fisica': 'maria', 'matematicas': 'juan'}\n"
          ]
        }
      ]
    }
  ],
  "metadata": {
    "colab": {
      "collapsed_sections": [],
      "name": "Tipos de datos",
      "provenance": [],
      "include_colab_link": true
    },
    "kernelspec": {
      "display_name": "Python 3",
      "name": "python3"
    },
    "gpuClass": "standard"
  },
  "nbformat": 4,
  "nbformat_minor": 0
}